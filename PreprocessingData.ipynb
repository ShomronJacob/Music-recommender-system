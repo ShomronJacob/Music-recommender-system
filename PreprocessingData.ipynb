{
 "cells": [
  {
   "cell_type": "markdown",
   "metadata": {},
   "source": [
    "# Preprocessing of data"
   ]
  },
  {
   "cell_type": "code",
   "execution_count": 50,
   "metadata": {
    "collapsed": true
   },
   "outputs": [],
   "source": [
    "import csv\n",
    "import pandas as pd\n",
    "import numpy as np\n",
    "import re\n",
    "import matplotlib.pyplot as mplt"
   ]
  },
  {
   "cell_type": "code",
   "execution_count": 51,
   "metadata": {
    "collapsed": true,
    "scrolled": true
   },
   "outputs": [],
   "source": [
    "df_lyrics=pd.read_csv('lyrics_MXM.csv',delimiter=',')"
   ]
  },
  {
   "cell_type": "code",
   "execution_count": 52,
   "metadata": {},
   "outputs": [
    {
     "name": "stderr",
     "output_type": "stream",
     "text": [
      "b'Skipping line 6: expected 5 fields, saw 6\\nSkipping line 14: expected 5 fields, saw 6\\nSkipping line 56: expected 5 fields, saw 6\\nSkipping line 82: expected 5 fields, saw 8\\nSkipping line 91: expected 5 fields, saw 6\\nSkipping line 123: expected 5 fields, saw 6\\nSkipping line 169: expected 5 fields, saw 6\\nSkipping line 170: expected 5 fields, saw 6\\nSkipping line 187: expected 5 fields, saw 6\\nSkipping line 197: expected 5 fields, saw 6\\nSkipping line 200: expected 5 fields, saw 6\\nSkipping line 228: expected 5 fields, saw 6\\nSkipping line 256: expected 5 fields, saw 6\\nSkipping line 257: expected 5 fields, saw 6\\nSkipping line 289: expected 5 fields, saw 6\\nSkipping line 291: expected 5 fields, saw 6\\nSkipping line 297: expected 5 fields, saw 6\\nSkipping line 299: expected 5 fields, saw 6\\nSkipping line 314: expected 5 fields, saw 6\\nSkipping line 322: expected 5 fields, saw 6\\nSkipping line 323: expected 5 fields, saw 6\\nSkipping line 335: expected 5 fields, saw 6\\nSkipping line 336: expected 5 fields, saw 6\\nSkipping line 340: expected 5 fields, saw 6\\nSkipping line 352: expected 5 fields, saw 6\\nSkipping line 373: expected 5 fields, saw 6\\nSkipping line 415: expected 5 fields, saw 6\\nSkipping line 420: expected 5 fields, saw 6\\nSkipping line 436: expected 5 fields, saw 6\\nSkipping line 441: expected 5 fields, saw 6\\nSkipping line 453: expected 5 fields, saw 6\\nSkipping line 466: expected 5 fields, saw 8\\nSkipping line 508: expected 5 fields, saw 6\\nSkipping line 521: expected 5 fields, saw 6\\nSkipping line 529: expected 5 fields, saw 6\\nSkipping line 540: expected 5 fields, saw 6\\nSkipping line 551: expected 5 fields, saw 6\\nSkipping line 560: expected 5 fields, saw 6\\nSkipping line 586: expected 5 fields, saw 6\\nSkipping line 629: expected 5 fields, saw 6\\nSkipping line 630: expected 5 fields, saw 6\\nSkipping line 645: expected 5 fields, saw 6\\nSkipping line 653: expected 5 fields, saw 6\\nSkipping line 662: expected 5 fields, saw 6\\nSkipping line 687: expected 5 fields, saw 6\\nSkipping line 738: expected 5 fields, saw 6\\nSkipping line 740: expected 5 fields, saw 6\\nSkipping line 761: expected 5 fields, saw 6\\nSkipping line 795: expected 5 fields, saw 6\\nSkipping line 808: expected 5 fields, saw 6\\nSkipping line 829: expected 5 fields, saw 6\\nSkipping line 872: expected 5 fields, saw 6\\nSkipping line 892: expected 5 fields, saw 6\\nSkipping line 905: expected 5 fields, saw 8\\nSkipping line 948: expected 5 fields, saw 6\\nSkipping line 979: expected 5 fields, saw 6\\nSkipping line 990: expected 5 fields, saw 6\\nSkipping line 1020: expected 5 fields, saw 6\\nSkipping line 1022: expected 5 fields, saw 6\\nSkipping line 1025: expected 5 fields, saw 6\\nSkipping line 1030: expected 5 fields, saw 6\\nSkipping line 1033: expected 5 fields, saw 6\\nSkipping line 1034: expected 5 fields, saw 6\\nSkipping line 1105: expected 5 fields, saw 6\\nSkipping line 1115: expected 5 fields, saw 6\\nSkipping line 1160: expected 5 fields, saw 6\\nSkipping line 1170: expected 5 fields, saw 6\\nSkipping line 1181: expected 5 fields, saw 6\\nSkipping line 1182: expected 5 fields, saw 6\\nSkipping line 1204: expected 5 fields, saw 6\\n'\n"
     ]
    }
   ],
   "source": [
    "# df_song=pd.read_csv('songd.csv',sep='delimiter',header=None,engine='python')\n",
    "df_song=pd.read_csv('songd.csv',delimiter=',',error_bad_lines=False)"
   ]
  },
  {
   "cell_type": "code",
   "execution_count": 53,
   "metadata": {
    "collapsed": true
   },
   "outputs": [],
   "source": [
    "df_song = df_song.drop('country',1)\n",
    "df_song = df_song.drop('year',1)\n",
    "df_song = df_song.drop('duration',1)"
   ]
  },
  {
   "cell_type": "code",
   "execution_count": 54,
   "metadata": {
    "collapsed": true
   },
   "outputs": [],
   "source": [
    "df_final=pd.merge(df_lyrics,df_song,on='track_id',how='inner')"
   ]
  },
  {
   "cell_type": "code",
   "execution_count": 55,
   "metadata": {
    "collapsed": true
   },
   "outputs": [],
   "source": [
    "song_to_track = pd.read_table('taste_profile_song_to_tracks.txt', sep='\\t', names =['song_ids','track_id'])"
   ]
  },
  {
   "cell_type": "code",
   "execution_count": 56,
   "metadata": {
    "collapsed": true
   },
   "outputs": [],
   "source": [
    "df_finall=pd.merge(df_final,song_to_track,on='track_id',how='inner')"
   ]
  },
  {
   "cell_type": "code",
   "execution_count": 57,
   "metadata": {
    "collapsed": true
   },
   "outputs": [],
   "source": [
    "user_behavior = pd.read_table('kaggle_visible_evaluation_triplets.txt', sep='\\t', names =['user_id','song_ids','play_count'])\n"
   ]
  },
  {
   "cell_type": "code",
   "execution_count": 58,
   "metadata": {},
   "outputs": [
    {
     "data": {
      "text/html": [
       "<div>\n",
       "<style>\n",
       "    .dataframe thead tr:only-child th {\n",
       "        text-align: right;\n",
       "    }\n",
       "\n",
       "    .dataframe thead th {\n",
       "        text-align: left;\n",
       "    }\n",
       "\n",
       "    .dataframe tbody tr th {\n",
       "        vertical-align: top;\n",
       "    }\n",
       "</style>\n",
       "<table border=\"1\" class=\"dataframe\">\n",
       "  <thead>\n",
       "    <tr style=\"text-align: right;\">\n",
       "      <th></th>\n",
       "      <th>track_id</th>\n",
       "      <th>genre</th>\n",
       "      <th>lyrics</th>\n",
       "      <th>artistlocation</th>\n",
       "      <th>song_ids</th>\n",
       "      <th>user_id</th>\n",
       "      <th>play_count</th>\n",
       "    </tr>\n",
       "  </thead>\n",
       "  <tbody>\n",
       "    <tr>\n",
       "      <th>0</th>\n",
       "      <td>TRAAABD128F429CF47</td>\n",
       "      <td>Rock|RnB</td>\n",
       "      <td>i|10 you|17 to|8 and|2 a|2 me|1 it|3 not|2 in|...</td>\n",
       "      <td>Memphis</td>\n",
       "      <td>SOCIWDW12A8C13D406</td>\n",
       "      <td>f817365b9439ee1ba59f3a77c27329fe05eabaf4</td>\n",
       "      <td>1</td>\n",
       "    </tr>\n",
       "    <tr>\n",
       "      <th>1</th>\n",
       "      <td>TRAABVM128F92CA9DC</td>\n",
       "      <td>Rock</td>\n",
       "      <td>i|19 the|5 you|2 to|4 and|5 a|6 me|3 it|8 not|...</td>\n",
       "      <td>NaN</td>\n",
       "      <td>SOXLBJT12A8C140925</td>\n",
       "      <td>a6bcc5fe393299ad7abecb60bfe66cd2f99b2936</td>\n",
       "      <td>1</td>\n",
       "    </tr>\n",
       "  </tbody>\n",
       "</table>\n",
       "</div>"
      ],
      "text/plain": [
       "             track_id     genre  \\\n",
       "0  TRAAABD128F429CF47  Rock|RnB   \n",
       "1  TRAABVM128F92CA9DC      Rock   \n",
       "\n",
       "                                              lyrics artistlocation  \\\n",
       "0  i|10 you|17 to|8 and|2 a|2 me|1 it|3 not|2 in|...        Memphis   \n",
       "1  i|19 the|5 you|2 to|4 and|5 a|6 me|3 it|8 not|...            NaN   \n",
       "\n",
       "             song_ids                                   user_id  play_count  \n",
       "0  SOCIWDW12A8C13D406  f817365b9439ee1ba59f3a77c27329fe05eabaf4           1  \n",
       "1  SOXLBJT12A8C140925  a6bcc5fe393299ad7abecb60bfe66cd2f99b2936           1  "
      ]
     },
     "execution_count": 58,
     "metadata": {},
     "output_type": "execute_result"
    }
   ],
   "source": [
    "df_finalll=pd.merge(df_finall,user_behavior,on='song_ids',how='inner')\n",
    "df_finalll.head(2)"
   ]
  },
  {
   "cell_type": "code",
   "execution_count": 59,
   "metadata": {
    "collapsed": true
   },
   "outputs": [],
   "source": [
    "df_geek=pd.read_csv('IML_music_recommender.csv',delimiter=',')\n",
    "df_geek['song_ids']=df_geek['song_ids'].str.lstrip('b')\n",
    "df_geek['artist_names']=df_geek['artist_names'].str.lstrip('b')\n",
    "df_geek['song_titles']=df_geek['song_titles'].str.lstrip('b')\n",
    "df_geek['song_hotness'].fillna(0, inplace=True)\n",
    "df_geek['song_ids'] = df_geek['song_ids'].str.replace(r\"[\\\"\\',]\", '')\n",
    "df_geek['artist_names'] = df_geek['artist_names'].str.replace(r\"[\\\"\\',]\", '')\n",
    "df_geek['song_titles'] = df_geek['song_titles'].str.replace(r\"[\\\"\\',]\", '')\n",
    "# df_geek.head(20)"
   ]
  },
  {
   "cell_type": "code",
   "execution_count": 60,
   "metadata": {
    "collapsed": true
   },
   "outputs": [],
   "source": [
    "df_music=pd.merge(df_geek,df_finalll,on='song_ids',how='inner')"
   ]
  },
  {
   "cell_type": "code",
   "execution_count": 61,
   "metadata": {},
   "outputs": [
    {
     "name": "stdout",
     "output_type": "stream",
     "text": [
      "(6384, 24)\n"
     ]
    }
   ],
   "source": [
    "# print(df_music.head(10))\n",
    "print(df_music.shape)"
   ]
  },
  {
   "cell_type": "code",
   "execution_count": 62,
   "metadata": {
    "collapsed": true
   },
   "outputs": [],
   "source": [
    "df_music['artistlocation'].fillna('Chicago', inplace=True)"
   ]
  },
  {
   "cell_type": "code",
   "execution_count": 63,
   "metadata": {},
   "outputs": [
    {
     "name": "stdout",
     "output_type": "stream",
     "text": [
      "Unnamed: 0          :     500 uniques\n",
      "artist_familiarty   :     364 uniques\n",
      "artist_hotness      :     369 uniques\n",
      "artist_names        :     368 uniques\n",
      "song_bars           :     500 uniques\n",
      "song_beats          :     500 uniques\n",
      "song_danceability   :       1 uniques\n",
      "song_durations      :     486 uniques\n",
      "song_energies       :       1 uniques\n",
      "song_hotness        :     400 uniques\n",
      "song_ids            :     500 uniques\n",
      "song_keys           :      12 uniques\n",
      "song_modes          :       2 uniques\n",
      "song_realease_years :      44 uniques\n",
      "song_tatum          :     500 uniques\n",
      "song_tempo          :     500 uniques\n",
      "song_time_signatures:       5 uniques\n",
      "song_titles         :     500 uniques\n",
      "track_id            :     500 uniques\n",
      "genre               :      54 uniques\n",
      "lyrics              :     500 uniques\n",
      "artistlocation      :     172 uniques\n",
      "user_id             :    6057 uniques\n",
      "play_count          :      56 uniques\n"
     ]
    }
   ],
   "source": [
    "# df_music.play_count.describe()-UNique Elements\n",
    "for col in df_music:\n",
    "    print(\"%-20s: %7d uniques\" % (col, df_music[col].nunique()))"
   ]
  },
  {
   "cell_type": "code",
   "execution_count": 64,
   "metadata": {
    "collapsed": true
   },
   "outputs": [],
   "source": [
    "#Converting get ratings from play count\n",
    "bins = [1,2,10,20,40, np.inf]\n",
    "df_music['rating']= pd.cut(df_music['play_count'], bins=bins, include_lowest=True, labels=[1,2,3,4,5]).astype(int)"
   ]
  },
  {
   "cell_type": "code",
   "execution_count": 65,
   "metadata": {},
   "outputs": [
    {
     "data": {
      "text/html": [
       "<div>\n",
       "<style>\n",
       "    .dataframe thead tr:only-child th {\n",
       "        text-align: right;\n",
       "    }\n",
       "\n",
       "    .dataframe thead th {\n",
       "        text-align: left;\n",
       "    }\n",
       "\n",
       "    .dataframe tbody tr th {\n",
       "        vertical-align: top;\n",
       "    }\n",
       "</style>\n",
       "<table border=\"1\" class=\"dataframe\">\n",
       "  <thead>\n",
       "    <tr style=\"text-align: right;\">\n",
       "      <th></th>\n",
       "      <th>Unnamed: 0</th>\n",
       "      <th>artist_familiarty</th>\n",
       "      <th>artist_hotness</th>\n",
       "      <th>artist_names</th>\n",
       "      <th>song_bars</th>\n",
       "      <th>song_beats</th>\n",
       "      <th>song_danceability</th>\n",
       "      <th>song_durations</th>\n",
       "      <th>song_energies</th>\n",
       "      <th>song_hotness</th>\n",
       "      <th>...</th>\n",
       "      <th>song_tempo</th>\n",
       "      <th>song_time_signatures</th>\n",
       "      <th>song_titles</th>\n",
       "      <th>track_id</th>\n",
       "      <th>genre</th>\n",
       "      <th>lyrics</th>\n",
       "      <th>artistlocation</th>\n",
       "      <th>user_id</th>\n",
       "      <th>play_count</th>\n",
       "      <th>rating</th>\n",
       "    </tr>\n",
       "  </thead>\n",
       "  <tbody>\n",
       "    <tr>\n",
       "      <th>0</th>\n",
       "      <td>12</td>\n",
       "      <td>0.733433</td>\n",
       "      <td>0.455559</td>\n",
       "      <td>Shadows Fall</td>\n",
       "      <td>[   1.35712    4.17899    7.00987    9.83158  ...</td>\n",
       "      <td>[   0.65324    1.35712    2.06418    2.76881  ...</td>\n",
       "      <td>0.0</td>\n",
       "      <td>283.48036</td>\n",
       "      <td>0.0</td>\n",
       "      <td>0.687874</td>\n",
       "      <td>...</td>\n",
       "      <td>84.992</td>\n",
       "      <td>4</td>\n",
       "      <td>What Drives The Weak</td>\n",
       "      <td>TRARUOP12903CF2384</td>\n",
       "      <td>Metal</td>\n",
       "      <td>the|19 you|3 to|6 a|4 me|1 it|4 not|1 in|1 is|...</td>\n",
       "      <td>Boston</td>\n",
       "      <td>af031a4432b7a31431231a28459b04affbd0014e</td>\n",
       "      <td>1</td>\n",
       "      <td>1</td>\n",
       "    </tr>\n",
       "    <tr>\n",
       "      <th>1</th>\n",
       "      <td>12</td>\n",
       "      <td>0.733433</td>\n",
       "      <td>0.455559</td>\n",
       "      <td>Shadows Fall</td>\n",
       "      <td>[   1.35712    4.17899    7.00987    9.83158  ...</td>\n",
       "      <td>[   0.65324    1.35712    2.06418    2.76881  ...</td>\n",
       "      <td>0.0</td>\n",
       "      <td>283.48036</td>\n",
       "      <td>0.0</td>\n",
       "      <td>0.687874</td>\n",
       "      <td>...</td>\n",
       "      <td>84.992</td>\n",
       "      <td>4</td>\n",
       "      <td>What Drives The Weak</td>\n",
       "      <td>TRARUOP12903CF2384</td>\n",
       "      <td>Metal</td>\n",
       "      <td>the|19 you|3 to|6 a|4 me|1 it|4 not|1 in|1 is|...</td>\n",
       "      <td>Boston</td>\n",
       "      <td>6c618f60b9b27b2b951854c56a7c96991514ca4f</td>\n",
       "      <td>1</td>\n",
       "      <td>1</td>\n",
       "    </tr>\n",
       "  </tbody>\n",
       "</table>\n",
       "<p>2 rows × 25 columns</p>\n",
       "</div>"
      ],
      "text/plain": [
       "   Unnamed: 0  artist_familiarty  artist_hotness  artist_names  \\\n",
       "0          12           0.733433        0.455559  Shadows Fall   \n",
       "1          12           0.733433        0.455559  Shadows Fall   \n",
       "\n",
       "                                           song_bars  \\\n",
       "0  [   1.35712    4.17899    7.00987    9.83158  ...   \n",
       "1  [   1.35712    4.17899    7.00987    9.83158  ...   \n",
       "\n",
       "                                          song_beats  song_danceability  \\\n",
       "0  [   0.65324    1.35712    2.06418    2.76881  ...                0.0   \n",
       "1  [   0.65324    1.35712    2.06418    2.76881  ...                0.0   \n",
       "\n",
       "   song_durations  song_energies  song_hotness  ...   song_tempo  \\\n",
       "0       283.48036            0.0      0.687874  ...       84.992   \n",
       "1       283.48036            0.0      0.687874  ...       84.992   \n",
       "\n",
       "   song_time_signatures           song_titles            track_id  genre  \\\n",
       "0                     4  What Drives The Weak  TRARUOP12903CF2384  Metal   \n",
       "1                     4  What Drives The Weak  TRARUOP12903CF2384  Metal   \n",
       "\n",
       "                                              lyrics  artistlocation  \\\n",
       "0  the|19 you|3 to|6 a|4 me|1 it|4 not|1 in|1 is|...          Boston   \n",
       "1  the|19 you|3 to|6 a|4 me|1 it|4 not|1 in|1 is|...          Boston   \n",
       "\n",
       "                                    user_id play_count rating  \n",
       "0  af031a4432b7a31431231a28459b04affbd0014e          1      1  \n",
       "1  6c618f60b9b27b2b951854c56a7c96991514ca4f          1      1  \n",
       "\n",
       "[2 rows x 25 columns]"
      ]
     },
     "execution_count": 65,
     "metadata": {},
     "output_type": "execute_result"
    }
   ],
   "source": [
    "# df_music['rating'].head(100)\n",
    "df_music.head(2)"
   ]
  },
  {
   "cell_type": "code",
   "execution_count": 96,
   "metadata": {
    "collapsed": true
   },
   "outputs": [],
   "source": [
    "df_music.to_csv('data_USL.csv')"
   ]
  }
 ],
 "metadata": {
  "kernelspec": {
   "display_name": "Python 3",
   "language": "python",
   "name": "python3"
  },
  "language_info": {
   "codemirror_mode": {
    "name": "ipython",
    "version": 3
   },
   "file_extension": ".py",
   "mimetype": "text/x-python",
   "name": "python",
   "nbconvert_exporter": "python",
   "pygments_lexer": "ipython3",
   "version": "3.6.2"
  }
 },
 "nbformat": 4,
 "nbformat_minor": 2
}
